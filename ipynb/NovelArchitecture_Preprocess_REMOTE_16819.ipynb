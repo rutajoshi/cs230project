{
 "cells": [
  {
   "cell_type": "code",
   "execution_count": 1,
   "metadata": {},
   "outputs": [
    {
     "name": "stderr",
     "output_type": "stream",
     "text": [
      "Using TensorFlow backend.\n"
     ]
    }
   ],
   "source": [
    "from __future__ import absolute_import\n",
    "from __future__ import division\n",
    "from __future__ import print_function\n",
    "\n",
    "import math\n",
    "import numpy as np\n",
    "import matplotlib.pyplot as plt\n",
    "import h5py\n",
    "import scipy\n",
    "import tensorflow as tf\n",
    "from tensorflow.python.framework import ops\n",
    "from tf_utils import load_dataset, random_mini_batches, convert_to_one_hot, predict\n",
    "from PIL import Image\n",
    "from scipy import ndimage\n",
    "import pandas as pd\n",
    "import imageio\n",
    "from tensorflow import keras\n",
    "from keras.models import Sequential\n",
    "from tensorflow.keras import layers\n",
    "\n",
    "from datetime import datetime\n",
    "from packaging import version\n",
    "\n",
    "%matplotlib inline"
   ]
  },
  {
   "cell_type": "code",
   "execution_count": 21,
   "metadata": {},
   "outputs": [],
   "source": [
    "def convert_to_indices(arr, binsPower):\n",
    "    arr = np.around(arr, decimals=binsPower)\n",
    "    arr = np.multiply(arr, 10**(binsPower))\n",
    "    return arr.astype(int)\n",
    "\n",
    "def onehot_initialization(a, binsPower):\n",
    "    ncols = 10 **(binsPower) + 1\n",
    "    out = np.zeros(a.shape + (ncols,), dtype=int)\n",
    "    out[all_idx(a, axis=2)] = 1\n",
    "    return out\n",
    "\n",
    "def all_idx(idx, axis):\n",
    "    grid = np.ogrid[tuple(map(slice, idx.shape))]\n",
    "    grid.insert(axis, idx)\n",
    "    return tuple(grid)\n",
    "\n",
    "def convert_onehot(arr, binPower):\n",
    "    arr = convert_to_indices(arr, binPower)\n",
    "    arr = onehot_initialization(arr, binPower)\n",
    "    return arr"
   ]
  },
  {
   "cell_type": "code",
   "execution_count": 22,
   "metadata": {},
   "outputs": [
    {
     "data": {
      "text/html": [
       "<div>\n",
       "<style scoped>\n",
       "    .dataframe tbody tr th:only-of-type {\n",
       "        vertical-align: middle;\n",
       "    }\n",
       "\n",
       "    .dataframe tbody tr th {\n",
       "        vertical-align: top;\n",
       "    }\n",
       "\n",
       "    .dataframe thead th {\n",
       "        text-align: right;\n",
       "    }\n",
       "</style>\n",
       "<table border=\"1\" class=\"dataframe\">\n",
       "  <thead>\n",
       "    <tr style=\"text-align: right;\">\n",
       "      <th></th>\n",
       "      <th>Unnamed: 0</th>\n",
       "      <th>img_name</th>\n",
       "      <th>base</th>\n",
       "      <th>base color R</th>\n",
       "      <th>base color G</th>\n",
       "      <th>base color B</th>\n",
       "      <th>specular</th>\n",
       "      <th>specular color R</th>\n",
       "      <th>specular color G</th>\n",
       "      <th>specular color B</th>\n",
       "      <th>specular roughness</th>\n",
       "      <th>metalness</th>\n",
       "    </tr>\n",
       "  </thead>\n",
       "  <tbody>\n",
       "    <tr>\n",
       "      <th>0</th>\n",
       "      <td>0</td>\n",
       "      <td>0.bmp</td>\n",
       "      <td>0.196696</td>\n",
       "      <td>[0.02551167982996516</td>\n",
       "      <td>0.523569</td>\n",
       "      <td>0.09533690194549593]</td>\n",
       "      <td>0.903675</td>\n",
       "      <td>[0.9414576345001383</td>\n",
       "      <td>0.927580</td>\n",
       "      <td>0.418087362819755]</td>\n",
       "      <td>0.120439</td>\n",
       "      <td>0.941755</td>\n",
       "    </tr>\n",
       "    <tr>\n",
       "      <th>1</th>\n",
       "      <td>1</td>\n",
       "      <td>1.bmp</td>\n",
       "      <td>0.563387</td>\n",
       "      <td>[0.13560656102894886</td>\n",
       "      <td>0.715835</td>\n",
       "      <td>0.6311335628961977]</td>\n",
       "      <td>0.381407</td>\n",
       "      <td>[0.9228773407900674</td>\n",
       "      <td>0.328530</td>\n",
       "      <td>0.294482323738513]</td>\n",
       "      <td>0.439152</td>\n",
       "      <td>0.511734</td>\n",
       "    </tr>\n",
       "    <tr>\n",
       "      <th>2</th>\n",
       "      <td>2</td>\n",
       "      <td>2.bmp</td>\n",
       "      <td>0.433630</td>\n",
       "      <td>[0.06292513279208145</td>\n",
       "      <td>0.468129</td>\n",
       "      <td>0.49781547380782]</td>\n",
       "      <td>0.622876</td>\n",
       "      <td>[0.8260393377700712</td>\n",
       "      <td>0.115993</td>\n",
       "      <td>0.1549741111822439]</td>\n",
       "      <td>0.646591</td>\n",
       "      <td>0.490058</td>\n",
       "    </tr>\n",
       "    <tr>\n",
       "      <th>3</th>\n",
       "      <td>3</td>\n",
       "      <td>3.bmp</td>\n",
       "      <td>0.471443</td>\n",
       "      <td>[0.8909351516333082</td>\n",
       "      <td>0.133360</td>\n",
       "      <td>0.7187711144029106]</td>\n",
       "      <td>0.419356</td>\n",
       "      <td>[0.08579008506320773</td>\n",
       "      <td>0.466882</td>\n",
       "      <td>0.36951439970192435]</td>\n",
       "      <td>0.154928</td>\n",
       "      <td>0.632136</td>\n",
       "    </tr>\n",
       "    <tr>\n",
       "      <th>4</th>\n",
       "      <td>4</td>\n",
       "      <td>4.bmp</td>\n",
       "      <td>0.172493</td>\n",
       "      <td>[0.1089380911674539</td>\n",
       "      <td>0.179026</td>\n",
       "      <td>0.4079338804909298]</td>\n",
       "      <td>0.893968</td>\n",
       "      <td>[0.9620524644071147</td>\n",
       "      <td>0.906355</td>\n",
       "      <td>0.3523653506316685]</td>\n",
       "      <td>0.708425</td>\n",
       "      <td>0.002353</td>\n",
       "    </tr>\n",
       "  </tbody>\n",
       "</table>\n",
       "</div>"
      ],
      "text/plain": [
       "   Unnamed: 0 img_name      base          base color R  base color G  \\\n",
       "0           0    0.bmp  0.196696  [0.02551167982996516      0.523569   \n",
       "1           1    1.bmp  0.563387  [0.13560656102894886      0.715835   \n",
       "2           2    2.bmp  0.433630  [0.06292513279208145      0.468129   \n",
       "3           3    3.bmp  0.471443   [0.8909351516333082      0.133360   \n",
       "4           4    4.bmp  0.172493   [0.1089380911674539      0.179026   \n",
       "\n",
       "            base color B  specular      specular color R  specular color G  \\\n",
       "0   0.09533690194549593]  0.903675   [0.9414576345001383          0.927580   \n",
       "1    0.6311335628961977]  0.381407   [0.9228773407900674          0.328530   \n",
       "2      0.49781547380782]  0.622876   [0.8260393377700712          0.115993   \n",
       "3    0.7187711144029106]  0.419356  [0.08579008506320773          0.466882   \n",
       "4    0.4079338804909298]  0.893968   [0.9620524644071147          0.906355   \n",
       "\n",
       "        specular color B  specular roughness  metalness  \n",
       "0     0.418087362819755]            0.120439   0.941755  \n",
       "1     0.294482323738513]            0.439152   0.511734  \n",
       "2    0.1549741111822439]            0.646591   0.490058  \n",
       "3   0.36951439970192435]            0.154928   0.632136  \n",
       "4    0.3523653506316685]            0.708425   0.002353  "
      ]
     },
     "execution_count": 22,
     "metadata": {},
     "output_type": "execute_result"
    }
   ],
   "source": [
    "# labels = np.genfromtxt('labels.csv', delimiter=',')\n",
    "labels = pd.read_csv('labels.csv', float_precision='road_trip')\n",
    "labels.head(5)"
   ]
  },
  {
   "cell_type": "code",
   "execution_count": 23,
   "metadata": {},
   "outputs": [],
   "source": [
    "labels[\"base color R\"] = labels[\"base color R\"].str[1:]\n",
    "labels[\"base color B\"] = labels[\"base color B\"].str[:-1]\n",
    "labels[\"specular color R\"] = labels[\"specular color R\"].str[1:]\n",
    "labels[\"specular color B\"] = labels[\"specular color B\"].str[:-1]\n",
    "labels[\"img_name\"] = labels[\"img_name\"].str[:-3]+\"jpg\""
   ]
  },
  {
   "cell_type": "code",
   "execution_count": 24,
   "metadata": {},
   "outputs": [
    {
     "data": {
      "text/html": [
       "<div>\n",
       "<style scoped>\n",
       "    .dataframe tbody tr th:only-of-type {\n",
       "        vertical-align: middle;\n",
       "    }\n",
       "\n",
       "    .dataframe tbody tr th {\n",
       "        vertical-align: top;\n",
       "    }\n",
       "\n",
       "    .dataframe thead th {\n",
       "        text-align: right;\n",
       "    }\n",
       "</style>\n",
       "<table border=\"1\" class=\"dataframe\">\n",
       "  <thead>\n",
       "    <tr style=\"text-align: right;\">\n",
       "      <th></th>\n",
       "      <th>Unnamed: 0</th>\n",
       "      <th>img_name</th>\n",
       "      <th>base</th>\n",
       "      <th>base color R</th>\n",
       "      <th>base color G</th>\n",
       "      <th>base color B</th>\n",
       "      <th>specular</th>\n",
       "      <th>specular color R</th>\n",
       "      <th>specular color G</th>\n",
       "      <th>specular color B</th>\n",
       "      <th>specular roughness</th>\n",
       "      <th>metalness</th>\n",
       "    </tr>\n",
       "  </thead>\n",
       "  <tbody>\n",
       "    <tr>\n",
       "      <th>0</th>\n",
       "      <td>0</td>\n",
       "      <td>0.jpg</td>\n",
       "      <td>0.196696</td>\n",
       "      <td>0.02551167982996516</td>\n",
       "      <td>0.523569</td>\n",
       "      <td>0.09533690194549593</td>\n",
       "      <td>0.903675</td>\n",
       "      <td>0.9414576345001383</td>\n",
       "      <td>0.927580</td>\n",
       "      <td>0.418087362819755</td>\n",
       "      <td>0.120439</td>\n",
       "      <td>0.941755</td>\n",
       "    </tr>\n",
       "    <tr>\n",
       "      <th>1</th>\n",
       "      <td>1</td>\n",
       "      <td>1.jpg</td>\n",
       "      <td>0.563387</td>\n",
       "      <td>0.13560656102894886</td>\n",
       "      <td>0.715835</td>\n",
       "      <td>0.6311335628961977</td>\n",
       "      <td>0.381407</td>\n",
       "      <td>0.9228773407900674</td>\n",
       "      <td>0.328530</td>\n",
       "      <td>0.294482323738513</td>\n",
       "      <td>0.439152</td>\n",
       "      <td>0.511734</td>\n",
       "    </tr>\n",
       "    <tr>\n",
       "      <th>2</th>\n",
       "      <td>2</td>\n",
       "      <td>2.jpg</td>\n",
       "      <td>0.433630</td>\n",
       "      <td>0.06292513279208145</td>\n",
       "      <td>0.468129</td>\n",
       "      <td>0.49781547380782</td>\n",
       "      <td>0.622876</td>\n",
       "      <td>0.8260393377700712</td>\n",
       "      <td>0.115993</td>\n",
       "      <td>0.1549741111822439</td>\n",
       "      <td>0.646591</td>\n",
       "      <td>0.490058</td>\n",
       "    </tr>\n",
       "    <tr>\n",
       "      <th>3</th>\n",
       "      <td>3</td>\n",
       "      <td>3.jpg</td>\n",
       "      <td>0.471443</td>\n",
       "      <td>0.8909351516333082</td>\n",
       "      <td>0.133360</td>\n",
       "      <td>0.7187711144029106</td>\n",
       "      <td>0.419356</td>\n",
       "      <td>0.08579008506320773</td>\n",
       "      <td>0.466882</td>\n",
       "      <td>0.36951439970192435</td>\n",
       "      <td>0.154928</td>\n",
       "      <td>0.632136</td>\n",
       "    </tr>\n",
       "    <tr>\n",
       "      <th>4</th>\n",
       "      <td>4</td>\n",
       "      <td>4.jpg</td>\n",
       "      <td>0.172493</td>\n",
       "      <td>0.1089380911674539</td>\n",
       "      <td>0.179026</td>\n",
       "      <td>0.4079338804909298</td>\n",
       "      <td>0.893968</td>\n",
       "      <td>0.9620524644071147</td>\n",
       "      <td>0.906355</td>\n",
       "      <td>0.3523653506316685</td>\n",
       "      <td>0.708425</td>\n",
       "      <td>0.002353</td>\n",
       "    </tr>\n",
       "  </tbody>\n",
       "</table>\n",
       "</div>"
      ],
      "text/plain": [
       "   Unnamed: 0 img_name      base         base color R  base color G  \\\n",
       "0           0    0.jpg  0.196696  0.02551167982996516      0.523569   \n",
       "1           1    1.jpg  0.563387  0.13560656102894886      0.715835   \n",
       "2           2    2.jpg  0.433630  0.06292513279208145      0.468129   \n",
       "3           3    3.jpg  0.471443   0.8909351516333082      0.133360   \n",
       "4           4    4.jpg  0.172493   0.1089380911674539      0.179026   \n",
       "\n",
       "           base color B  specular     specular color R  specular color G  \\\n",
       "0   0.09533690194549593  0.903675   0.9414576345001383          0.927580   \n",
       "1    0.6311335628961977  0.381407   0.9228773407900674          0.328530   \n",
       "2      0.49781547380782  0.622876   0.8260393377700712          0.115993   \n",
       "3    0.7187711144029106  0.419356  0.08579008506320773          0.466882   \n",
       "4    0.4079338804909298  0.893968   0.9620524644071147          0.906355   \n",
       "\n",
       "       specular color B  specular roughness  metalness  \n",
       "0     0.418087362819755            0.120439   0.941755  \n",
       "1     0.294482323738513            0.439152   0.511734  \n",
       "2    0.1549741111822439            0.646591   0.490058  \n",
       "3   0.36951439970192435            0.154928   0.632136  \n",
       "4    0.3523653506316685            0.708425   0.002353  "
      ]
     },
     "execution_count": 24,
     "metadata": {},
     "output_type": "execute_result"
    }
   ],
   "source": [
    "labels.head(5)"
   ]
  },
  {
   "cell_type": "code",
   "execution_count": 25,
   "metadata": {},
   "outputs": [],
   "source": [
    "vector_values = labels.iloc[:,2:]\n",
    "vector_values = vector_values.astype(float)"
   ]
  },
  {
   "cell_type": "code",
   "execution_count": 26,
   "metadata": {},
   "outputs": [
    {
     "data": {
      "text/plain": [
       "array([0.19669609, 0.02551168, 0.52356934, 0.0953369 , 0.90367509,\n",
       "       0.94145763, 0.92757973, 0.41808736, 0.1204395 , 0.94175506])"
      ]
     },
     "execution_count": 26,
     "metadata": {},
     "output_type": "execute_result"
    }
   ],
   "source": [
    "np_labels = vector_values.values\n",
    "np_labels[0]"
   ]
  },
  {
   "cell_type": "code",
   "execution_count": 33,
   "metadata": {},
   "outputs": [
    {
     "data": {
      "text/plain": [
       "array([0, 0, 0, 0, 0, 0, 0, 0, 0, 0, 0, 0, 0, 0, 0, 0, 0, 0, 0, 0, 0, 0,\n",
       "       0, 0, 0, 0, 0, 0, 0, 0, 0, 0, 0, 0, 0, 0, 0, 0, 0, 0, 0, 0, 0, 0,\n",
       "       0, 0, 0, 0, 0, 0, 0, 0, 1, 0, 0, 0, 0, 0, 0, 0, 0, 0, 0, 0, 0, 0,\n",
       "       0, 0, 0, 0, 0, 0, 0, 0, 0, 0, 0, 0, 0, 0, 0, 0, 0, 0, 0, 0, 0, 0,\n",
       "       0, 0, 0, 0, 0, 0, 0, 0, 0, 0, 0, 0, 0])"
      ]
     },
     "execution_count": 33,
     "metadata": {},
     "output_type": "execute_result"
    }
   ],
   "source": [
    "out = convert_onehot(np_labels, 2)\n",
    "out[0,2]"
   ]
  },
  {
   "cell_type": "code",
   "execution_count": 7,
   "metadata": {},
   "outputs": [
    {
     "ename": "FileNotFoundError",
     "evalue": "File b'big_dataset.csv' does not exist",
     "output_type": "error",
     "traceback": [
      "\u001b[0;31m---------------------------------------------------------------------------\u001b[0m",
      "\u001b[0;31mFileNotFoundError\u001b[0m                         Traceback (most recent call last)",
      "\u001b[0;32m<ipython-input-7-dd8aeee80858>\u001b[0m in \u001b[0;36m<module>\u001b[0;34m()\u001b[0m\n\u001b[1;32m      1\u001b[0m \u001b[0;31m# rest of 6000 images\u001b[0m\u001b[0;34m\u001b[0m\u001b[0;34m\u001b[0m\u001b[0m\n\u001b[0;32m----> 2\u001b[0;31m \u001b[0mlabels_rest\u001b[0m \u001b[0;34m=\u001b[0m \u001b[0mpd\u001b[0m\u001b[0;34m.\u001b[0m\u001b[0mread_csv\u001b[0m\u001b[0;34m(\u001b[0m\u001b[0;34m'big_dataset.csv'\u001b[0m\u001b[0;34m,\u001b[0m \u001b[0mfloat_precision\u001b[0m\u001b[0;34m=\u001b[0m\u001b[0;34m'road_trip'\u001b[0m\u001b[0;34m)\u001b[0m\u001b[0;34m\u001b[0m\u001b[0m\n\u001b[0m\u001b[1;32m      3\u001b[0m \u001b[0mlabels_rest\u001b[0m\u001b[0;34m[\u001b[0m\u001b[0;34m\"img_name\"\u001b[0m\u001b[0;34m]\u001b[0m \u001b[0;34m=\u001b[0m \u001b[0mlabels_rest\u001b[0m\u001b[0;34m[\u001b[0m\u001b[0;34m\"img_name\"\u001b[0m\u001b[0;34m]\u001b[0m\u001b[0;34m.\u001b[0m\u001b[0mstr\u001b[0m\u001b[0;34m[\u001b[0m\u001b[0;34m:\u001b[0m\u001b[0;34m-\u001b[0m\u001b[0;36m3\u001b[0m\u001b[0;34m]\u001b[0m\u001b[0;34m+\u001b[0m\u001b[0;34m\"jpg\"\u001b[0m\u001b[0;34m\u001b[0m\u001b[0m\n\u001b[1;32m      4\u001b[0m \u001b[0mlabels_rest\u001b[0m\u001b[0;34m.\u001b[0m\u001b[0mhead\u001b[0m\u001b[0;34m(\u001b[0m\u001b[0;36m5\u001b[0m\u001b[0;34m)\u001b[0m\u001b[0;34m\u001b[0m\u001b[0m\n",
      "\u001b[0;32m/Library/Frameworks/Python.framework/Versions/3.6/lib/python3.6/site-packages/pandas/io/parsers.py\u001b[0m in \u001b[0;36mparser_f\u001b[0;34m(filepath_or_buffer, sep, delimiter, header, names, index_col, usecols, squeeze, prefix, mangle_dupe_cols, dtype, engine, converters, true_values, false_values, skipinitialspace, skiprows, nrows, na_values, keep_default_na, na_filter, verbose, skip_blank_lines, parse_dates, infer_datetime_format, keep_date_col, date_parser, dayfirst, iterator, chunksize, compression, thousands, decimal, lineterminator, quotechar, quoting, escapechar, comment, encoding, dialect, tupleize_cols, error_bad_lines, warn_bad_lines, skipfooter, skip_footer, doublequote, delim_whitespace, as_recarray, compact_ints, use_unsigned, low_memory, buffer_lines, memory_map, float_precision)\u001b[0m\n\u001b[1;32m    707\u001b[0m                     skip_blank_lines=skip_blank_lines)\n\u001b[1;32m    708\u001b[0m \u001b[0;34m\u001b[0m\u001b[0m\n\u001b[0;32m--> 709\u001b[0;31m         \u001b[0;32mreturn\u001b[0m \u001b[0m_read\u001b[0m\u001b[0;34m(\u001b[0m\u001b[0mfilepath_or_buffer\u001b[0m\u001b[0;34m,\u001b[0m \u001b[0mkwds\u001b[0m\u001b[0;34m)\u001b[0m\u001b[0;34m\u001b[0m\u001b[0m\n\u001b[0m\u001b[1;32m    710\u001b[0m \u001b[0;34m\u001b[0m\u001b[0m\n\u001b[1;32m    711\u001b[0m     \u001b[0mparser_f\u001b[0m\u001b[0;34m.\u001b[0m\u001b[0m__name__\u001b[0m \u001b[0;34m=\u001b[0m \u001b[0mname\u001b[0m\u001b[0;34m\u001b[0m\u001b[0m\n",
      "\u001b[0;32m/Library/Frameworks/Python.framework/Versions/3.6/lib/python3.6/site-packages/pandas/io/parsers.py\u001b[0m in \u001b[0;36m_read\u001b[0;34m(filepath_or_buffer, kwds)\u001b[0m\n\u001b[1;32m    447\u001b[0m \u001b[0;34m\u001b[0m\u001b[0m\n\u001b[1;32m    448\u001b[0m     \u001b[0;31m# Create the parser.\u001b[0m\u001b[0;34m\u001b[0m\u001b[0;34m\u001b[0m\u001b[0m\n\u001b[0;32m--> 449\u001b[0;31m     \u001b[0mparser\u001b[0m \u001b[0;34m=\u001b[0m \u001b[0mTextFileReader\u001b[0m\u001b[0;34m(\u001b[0m\u001b[0mfilepath_or_buffer\u001b[0m\u001b[0;34m,\u001b[0m \u001b[0;34m**\u001b[0m\u001b[0mkwds\u001b[0m\u001b[0;34m)\u001b[0m\u001b[0;34m\u001b[0m\u001b[0m\n\u001b[0m\u001b[1;32m    450\u001b[0m \u001b[0;34m\u001b[0m\u001b[0m\n\u001b[1;32m    451\u001b[0m     \u001b[0;32mif\u001b[0m \u001b[0mchunksize\u001b[0m \u001b[0;32mor\u001b[0m \u001b[0miterator\u001b[0m\u001b[0;34m:\u001b[0m\u001b[0;34m\u001b[0m\u001b[0m\n",
      "\u001b[0;32m/Library/Frameworks/Python.framework/Versions/3.6/lib/python3.6/site-packages/pandas/io/parsers.py\u001b[0m in \u001b[0;36m__init__\u001b[0;34m(self, f, engine, **kwds)\u001b[0m\n\u001b[1;32m    816\u001b[0m             \u001b[0mself\u001b[0m\u001b[0;34m.\u001b[0m\u001b[0moptions\u001b[0m\u001b[0;34m[\u001b[0m\u001b[0;34m'has_index_names'\u001b[0m\u001b[0;34m]\u001b[0m \u001b[0;34m=\u001b[0m \u001b[0mkwds\u001b[0m\u001b[0;34m[\u001b[0m\u001b[0;34m'has_index_names'\u001b[0m\u001b[0;34m]\u001b[0m\u001b[0;34m\u001b[0m\u001b[0m\n\u001b[1;32m    817\u001b[0m \u001b[0;34m\u001b[0m\u001b[0m\n\u001b[0;32m--> 818\u001b[0;31m         \u001b[0mself\u001b[0m\u001b[0;34m.\u001b[0m\u001b[0m_make_engine\u001b[0m\u001b[0;34m(\u001b[0m\u001b[0mself\u001b[0m\u001b[0;34m.\u001b[0m\u001b[0mengine\u001b[0m\u001b[0;34m)\u001b[0m\u001b[0;34m\u001b[0m\u001b[0m\n\u001b[0m\u001b[1;32m    819\u001b[0m \u001b[0;34m\u001b[0m\u001b[0m\n\u001b[1;32m    820\u001b[0m     \u001b[0;32mdef\u001b[0m \u001b[0mclose\u001b[0m\u001b[0;34m(\u001b[0m\u001b[0mself\u001b[0m\u001b[0;34m)\u001b[0m\u001b[0;34m:\u001b[0m\u001b[0;34m\u001b[0m\u001b[0m\n",
      "\u001b[0;32m/Library/Frameworks/Python.framework/Versions/3.6/lib/python3.6/site-packages/pandas/io/parsers.py\u001b[0m in \u001b[0;36m_make_engine\u001b[0;34m(self, engine)\u001b[0m\n\u001b[1;32m   1047\u001b[0m     \u001b[0;32mdef\u001b[0m \u001b[0m_make_engine\u001b[0m\u001b[0;34m(\u001b[0m\u001b[0mself\u001b[0m\u001b[0;34m,\u001b[0m \u001b[0mengine\u001b[0m\u001b[0;34m=\u001b[0m\u001b[0;34m'c'\u001b[0m\u001b[0;34m)\u001b[0m\u001b[0;34m:\u001b[0m\u001b[0;34m\u001b[0m\u001b[0m\n\u001b[1;32m   1048\u001b[0m         \u001b[0;32mif\u001b[0m \u001b[0mengine\u001b[0m \u001b[0;34m==\u001b[0m \u001b[0;34m'c'\u001b[0m\u001b[0;34m:\u001b[0m\u001b[0;34m\u001b[0m\u001b[0m\n\u001b[0;32m-> 1049\u001b[0;31m             \u001b[0mself\u001b[0m\u001b[0;34m.\u001b[0m\u001b[0m_engine\u001b[0m \u001b[0;34m=\u001b[0m \u001b[0mCParserWrapper\u001b[0m\u001b[0;34m(\u001b[0m\u001b[0mself\u001b[0m\u001b[0;34m.\u001b[0m\u001b[0mf\u001b[0m\u001b[0;34m,\u001b[0m \u001b[0;34m**\u001b[0m\u001b[0mself\u001b[0m\u001b[0;34m.\u001b[0m\u001b[0moptions\u001b[0m\u001b[0;34m)\u001b[0m\u001b[0;34m\u001b[0m\u001b[0m\n\u001b[0m\u001b[1;32m   1050\u001b[0m         \u001b[0;32melse\u001b[0m\u001b[0;34m:\u001b[0m\u001b[0;34m\u001b[0m\u001b[0m\n\u001b[1;32m   1051\u001b[0m             \u001b[0;32mif\u001b[0m \u001b[0mengine\u001b[0m \u001b[0;34m==\u001b[0m \u001b[0;34m'python'\u001b[0m\u001b[0;34m:\u001b[0m\u001b[0;34m\u001b[0m\u001b[0m\n",
      "\u001b[0;32m/Library/Frameworks/Python.framework/Versions/3.6/lib/python3.6/site-packages/pandas/io/parsers.py\u001b[0m in \u001b[0;36m__init__\u001b[0;34m(self, src, **kwds)\u001b[0m\n\u001b[1;32m   1693\u001b[0m         \u001b[0mkwds\u001b[0m\u001b[0;34m[\u001b[0m\u001b[0;34m'allow_leading_cols'\u001b[0m\u001b[0;34m]\u001b[0m \u001b[0;34m=\u001b[0m \u001b[0mself\u001b[0m\u001b[0;34m.\u001b[0m\u001b[0mindex_col\u001b[0m \u001b[0;32mis\u001b[0m \u001b[0;32mnot\u001b[0m \u001b[0;32mFalse\u001b[0m\u001b[0;34m\u001b[0m\u001b[0m\n\u001b[1;32m   1694\u001b[0m \u001b[0;34m\u001b[0m\u001b[0m\n\u001b[0;32m-> 1695\u001b[0;31m         \u001b[0mself\u001b[0m\u001b[0;34m.\u001b[0m\u001b[0m_reader\u001b[0m \u001b[0;34m=\u001b[0m \u001b[0mparsers\u001b[0m\u001b[0;34m.\u001b[0m\u001b[0mTextReader\u001b[0m\u001b[0;34m(\u001b[0m\u001b[0msrc\u001b[0m\u001b[0;34m,\u001b[0m \u001b[0;34m**\u001b[0m\u001b[0mkwds\u001b[0m\u001b[0;34m)\u001b[0m\u001b[0;34m\u001b[0m\u001b[0m\n\u001b[0m\u001b[1;32m   1696\u001b[0m \u001b[0;34m\u001b[0m\u001b[0m\n\u001b[1;32m   1697\u001b[0m         \u001b[0;31m# XXX\u001b[0m\u001b[0;34m\u001b[0m\u001b[0;34m\u001b[0m\u001b[0m\n",
      "\u001b[0;32mpandas/_libs/parsers.pyx\u001b[0m in \u001b[0;36mpandas._libs.parsers.TextReader.__cinit__\u001b[0;34m()\u001b[0m\n",
      "\u001b[0;32mpandas/_libs/parsers.pyx\u001b[0m in \u001b[0;36mpandas._libs.parsers.TextReader._setup_parser_source\u001b[0;34m()\u001b[0m\n",
      "\u001b[0;31mFileNotFoundError\u001b[0m: File b'big_dataset.csv' does not exist"
     ]
    }
   ],
   "source": [
    "# rest of 6000 images\n",
    "labels_rest = pd.read_csv('big_dataset.csv', float_precision='road_trip')\n",
    "labels_rest[\"img_name\"] = labels_rest[\"img_name\"].str[:-3]+\"jpg\"\n",
    "labels_rest.head(5)"
   ]
  },
  {
   "cell_type": "code",
   "execution_count": null,
   "metadata": {},
   "outputs": [],
   "source": [
    "vector_values2 = labels_rest.iloc[:,2:]\n",
    "vector_values2 = vector_values2.astype(float)"
   ]
  },
  {
   "cell_type": "code",
   "execution_count": null,
   "metadata": {},
   "outputs": [],
   "source": [
    "# concat the 4000 and 6000 images for full dataset\n",
    "frames = [vector_values, vector_values2]\n",
    "vector_value = pd.concat(frames)"
   ]
  },
  {
   "cell_type": "code",
   "execution_count": null,
   "metadata": {},
   "outputs": [],
   "source": [
    "np_labels = vector_value.values\n",
    "np_labels = convert_onehot(np_labels, 3)"
   ]
  },
  {
   "cell_type": "markdown",
   "metadata": {},
   "source": [
    "THE BELOW CELL TAKES AGES TO RUN. ONLY RUN IT ONCE."
   ]
  },
  {
   "cell_type": "code",
   "execution_count": 94,
   "metadata": {},
   "outputs": [
    {
     "name": "stdout",
     "output_type": "stream",
     "text": [
      "10\n"
     ]
    }
   ],
   "source": [
    "# check to make sure it works. should equal number of categories (10)\n",
    "print(np.sum(np_labels[0]))"
   ]
  },
  {
   "cell_type": "code",
   "execution_count": 95,
   "metadata": {},
   "outputs": [
    {
     "name": "stdout",
     "output_type": "stream",
     "text": [
      "(10000, 10, 1001)\n"
     ]
    }
   ],
   "source": [
    "print(np_labels.shape)"
   ]
  }
 ],
 "metadata": {
  "kernelspec": {
   "display_name": "Python 3",
   "language": "python",
   "name": "python3"
  },
  "language_info": {
   "codemirror_mode": {
    "name": "ipython",
    "version": 3
   },
   "file_extension": ".py",
   "mimetype": "text/x-python",
   "name": "python",
   "nbconvert_exporter": "python",
   "pygments_lexer": "ipython3",
   "version": "3.6.4"
  }
 },
 "nbformat": 4,
 "nbformat_minor": 2
}
